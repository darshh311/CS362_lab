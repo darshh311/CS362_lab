{
 "cells": [
  {
   "cell_type": "code",
   "execution_count": 1,
   "metadata": {
    "id": "QkR2a69B6MRz"
   },
   "outputs": [],
   "source": [
    "import numpy as np\n",
    "import math"
   ]
  },
  {
   "cell_type": "code",
   "execution_count": 2,
   "metadata": {
    "id": "LiGuxBgOafzH"
   },
   "outputs": [],
   "source": [
    "def updateCurrentState(currentState,move,position):\n",
    "  state=currentState.copy()\n",
    "  state[position]=move\n",
    "  return state"
   ]
  },
  {
   "cell_type": "code",
   "execution_count": 3,
   "metadata": {
    "id": "Blkt3SnZLaDY"
   },
   "outputs": [],
   "source": [
    "def isGameOver(currentState,evaluatedNodes):\n",
    "  state=currentState.copy()\n",
    "\n",
    "  for i in range(0,7,3) :\n",
    "    if (state[i] == state[i + 1] == state[i + 2]):\n",
    "      if (state[i]=='X'):\n",
    "        return 10,evaluatedNodes+1\n",
    "      elif (state[i]=='O'):\n",
    "        return -10,evaluatedNodes+1\n",
    "\n",
    "  for i in range(0,3):\n",
    "    if (state[i] == state[i + 3] == state[i + 6]):\n",
    "      if (state[i]=='X'):\n",
    "        return 10,evaluatedNodes+1\n",
    "      elif (state[i]=='O'):\n",
    "        return -10,evaluatedNodes+1\n",
    "\n",
    "  if (state[0] == state[4] == state[8]) :\n",
    "    if (state[0]=='X'):\n",
    "        return 10,evaluatedNodes+1\n",
    "    elif (state[0]=='O'):\n",
    "        return -10,evaluatedNodes+1\n",
    "  if (state[2] == state[4] == state[6]):\n",
    "    if ( state[2]=='X'):\n",
    "        return 10,evaluatedNodes+1\n",
    "    elif (state[2]=='O'):\n",
    "        return -10,evaluatedNodes+1\n",
    "\n",
    "  if len(getEmptySpaces(state)) == 0:\n",
    "    return 0,evaluatedNodes+1\n",
    "\n",
    "  return -1,evaluatedNodes+1\n",
    "    \n"
   ]
  },
  {
   "cell_type": "code",
   "execution_count": 4,
   "metadata": {
    "id": "HFtQ3T34Xdko"
   },
   "outputs": [],
   "source": [
    "def getEmptySpaces(currentState):\n",
    "  count=[]\n",
    "  for i in range(len(currentState)):\n",
    "    if currentState[i] == ' ':\n",
    "      count.append(i)\n",
    "  return np.array(count)\n"
   ]
  },
  {
   "cell_type": "code",
   "execution_count": 5,
   "metadata": {
    "id": "ws7qJW9gKgJE"
   },
   "outputs": [],
   "source": [
    "def minmax(depth ,maximizingPlay ,currentState,parentIndex,evaluatedNodes):\n",
    "  move = 'X' if maximizingPlay else 'O'\n",
    "  moveScore,evaluatedNodes=isGameOver(currentState,evaluatedNodes)\n",
    "  if depth == 0 or moveScore != -1:\n",
    "    return [moveScore,currentState,evaluatedNodes]\n",
    "  # Player 1's move\n",
    "  if maximizingPlay :\n",
    "    maxEval = -math.inf\n",
    "    emptyIndices=getEmptySpaces(currentState)\n",
    "    best = None\n",
    "    for i in emptyIndices:\n",
    "      updatedState = updateCurrentState(currentState,move,i)\n",
    "      eval,bestTemp,evaluatedNodes=minmax(depth-1,False,updatedState,i,evaluatedNodes)\n",
    "      maxEval=max(maxEval,eval)\n",
    "      best = bestTemp if maxEval == eval else best\n",
    "    return [maxEval,best,evaluatedNodes]\n",
    "  else:\n",
    "    minEval = math.inf\n",
    "    emptyIndices=getEmptySpaces(currentState)\n",
    "    best = None\n",
    "    for i in emptyIndices:\n",
    "      updatedState = updateCurrentState(currentState,move,i)\n",
    "      eval,bestTemp,evaluatedNodes=minmax(depth-1,True,updatedState,i,evaluatedNodes)\n",
    "      minEval=min(minEval,eval)\n",
    "      best = bestTemp if minEval == eval else best\n",
    "    return [minEval,best,evaluatedNodes]"
   ]
  },
  {
   "cell_type": "code",
   "execution_count": 6,
   "metadata": {
    "id": "_SHooKHBbzKE"
   },
   "outputs": [],
   "source": [
    "def alphaBetaPruning(depth ,maximizingPlay,alpha,beta ,currentState,parentNode,evaluatedNodes):\n",
    "  move = 'X' if maximizingPlay else 'O'\n",
    "  moveScore,evaluatedNodes=isGameOver(currentState,evaluatedNodes)\n",
    "  if depth == 0 or moveScore != -1:\n",
    "    return [moveScore,evaluatedNodes]\n",
    "  # Player 1's move\n",
    "  if maximizingPlay :\n",
    "    maxEval = -math.inf\n",
    "    emptyIndices=getEmptySpaces(currentState)\n",
    "    for i in emptyIndices:\n",
    "      updatedState = updateCurrentState(currentState,move,i)\n",
    "      eval,evaluatedNodes=alphaBetaPruning(depth-1,False,alpha,beta ,updatedState,i,evaluatedNodes)\n",
    "      maxEval=max(maxEval,eval)\n",
    "      alpha=max(alpha,eval)\n",
    "      if (beta<=alpha):\n",
    "        break\n",
    "    return [maxEval,evaluatedNodes]\n",
    "  else:\n",
    "    minEval = math.inf\n",
    "    emptyIndices=getEmptySpaces(currentState)\n",
    "    for i in emptyIndices:\n",
    "      updatedState = updateCurrentState(currentState,move,i)\n",
    "      eval,evaluatedNodes=alphaBetaPruning(depth-1,True,alpha,beta ,updatedState,i,evaluatedNodes)\n",
    "      minEval=min(minEval,eval)\n",
    "      beta=min(beta,eval)\n",
    "      if (beta<=alpha):\n",
    "        break\n",
    "    return [minEval,evaluatedNodes]"
   ]
  },
  {
   "cell_type": "markdown",
   "metadata": {
    "id": "6dDP-C0FFGne"
   },
   "source": [
    "Below is our Main driver\n",
    "\n",
    "here points refer to win, loss, draw state attained from inital state.\n",
    "\n",
    "board is the final board generated from the initial state.\n",
    "\n",
    "evaluatedNodes is the number of times board state is tested for game over situation or the number of times minmax function is being called.\n",
    "\n",
    "pointABP is similar point table for Alpha beta pruining.\n",
    "\n",
    "evaluatedNodesABP is similar node evaluation for Alpha beta pruining.\n",
    "\n",
    "\n",
    "Assumptions made : \n",
    "\n",
    "if maximizing the situation means it is X's turn else it is O's turn.\n",
    "\n",
    "\n",
    "**Inputs for MinMax func = > depth, maximizing, initial state of board, parentNode, evaluatedNodes**\n",
    "\n",
    "\n",
    "**Inputs for AplhaBetaPruining func = > depth, maximizing,alpha, beta, initial state of board, parentNode, evaluatedNodes**\n",
    "\n"
   ]
  },
  {
   "cell_type": "code",
   "execution_count": 7,
   "metadata": {
    "colab": {
     "base_uri": "https://localhost:8080/"
    },
    "id": "OIXCwIv_Xcut",
    "outputId": "ca8c1ffd-29da-433b-99d1-74da8a7edf3c"
   },
   "outputs": [
    {
     "name": "stdout",
     "output_type": "stream",
     "text": [
      "Minimax : \n",
      "0 [['X' 'O' 'X']\n",
      " ['X' 'O' 'O']\n",
      " ['O' 'X' 'X']] \n",
      " Evaluated Nodes =  549946\n",
      "Alpha Beta Pruining : \n",
      "0 \n",
      " Evaluated Nodes =  18297\n"
     ]
    }
   ],
   "source": [
    "InitialState=np.array([' ',' ',' ',' ',' ',' ',' ',' ',' '])\n",
    "\n",
    "points,board,evaluatedNodes=minmax(9,True,InitialState,None,0)\n",
    "\n",
    "pointABP,evaluatedNodesABP=alphaBetaPruning(9,True,-math.inf,math.inf,InitialState,None,0)\n",
    "print(\"Minimax : \")\n",
    "print(points,board.reshape(3,3),\"\\n Evaluated Nodes = \",evaluatedNodes)\n",
    "print(\"Alpha Beta Pruining : \")\n",
    "print(pointABP,\"\\n Evaluated Nodes = \",evaluatedNodesABP)\n"
   ]
  },
  {
   "cell_type": "code",
   "execution_count": null,
   "metadata": {
    "id": "7G8GEuiWGAUh"
   },
   "outputs": [],
   "source": []
  }
 ],
 "metadata": {
  "colab": {
   "collapsed_sections": [],
   "name": "Assignment 4.ipynb",
   "provenance": []
  },
  "kernelspec": {
   "display_name": "Python 3 (ipykernel)",
   "language": "python",
   "name": "python3"
  },
  "language_info": {
   "codemirror_mode": {
    "name": "ipython",
    "version": 3
   },
   "file_extension": ".py",
   "mimetype": "text/x-python",
   "name": "python",
   "nbconvert_exporter": "python",
   "pygments_lexer": "ipython3",
   "version": "3.9.7"
  }
 },
 "nbformat": 4,
 "nbformat_minor": 1
}
