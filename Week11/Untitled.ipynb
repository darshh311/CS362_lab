{
 "cells": [
  {
   "cell_type": "code",
   "execution_count": 2,
   "id": "6640371c",
   "metadata": {},
   "outputs": [],
   "source": [
    "import random\n",
    "import matplotlib.pyplot as plt\n",
    "import numpy as np\n",
    "from operator import add"
   ]
  },
  {
   "cell_type": "code",
   "execution_count": 3,
   "id": "bf4852aa",
   "metadata": {},
   "outputs": [],
   "source": [
    "import random\n",
    "# --- Bandit ---\n",
    "class Bandit(object):\n",
    "  def __init__(self, N):\n",
    "    # N = number of arms\n",
    "    self.N = N\n",
    "    \n",
    "    expRewards = [1]*10 # SAME initial rewards\n",
    "    self.expRewards = expRewards\n",
    "  def actions(self):\n",
    "    return list(range(0,self.N))\n",
    "  def reward(self, action):\n",
    "    prob=[]\n",
    "    for i in range(self.N):\n",
    "      prob.append(0.1*i)\n",
    "    if (random.random()<prob[action]):\n",
    "      reward =1\n",
    "    else:\n",
    "      reward=0\n",
    "    return reward\n",
    "  def nonStatReward(self,action):\n",
    "    mu, sigma = 0, 0.01 # mean and standard deviation\n",
    "    s = np.random.normal(mu, sigma, self.N)\n",
    "    newRewards=list( map(add, self.expRewards, s) )\n",
    "    self.expRewards=newRewards\n",
    "    # print(newRewards)\n",
    "    return newRewards[action]"
   ]
  },
  {
   "cell_type": "code",
   "execution_count": 4,
   "id": "8147ec3b",
   "metadata": {},
   "outputs": [],
   "source": [
    "def eGreedy(myBandit, epsilon, max_iteration=1000,method=1):\n",
    "  # Initialization \n",
    "  Q = [0]*myBandit.N \n",
    "  count = [0]*myBandit.N\n",
    "  epsilon = epsilon\n",
    "  r = 0\n",
    "  R = []\n",
    "  R_avg = [0]*1\n",
    "  max_iter = max_iteration\n",
    "  # Incremental Implementation\n",
    "  for iter in range(1,max_iter):\n",
    "    if random.random() > epsilon:\n",
    "      action = Q.index(max(Q)) # Exploit/ Greed\n",
    "    else:\n",
    "      action = random.choice(myBandit.actions()) # Explore\n",
    "    if(method==1):\n",
    "      r = myBandit.reward(action)\n",
    "    else:\n",
    "      r=myBandit.nonStatReward(action)\n",
    "    R.append(r)\n",
    "    count[action] = count[action]+1\n",
    "    Q[action] = Q[action]+(r - Q[action])/count[action] #averaging over value\n",
    "    R_avg.append(R_avg[iter-1] + (r-R_avg[iter-1])/iter)\n",
    "  print(count)\n",
    "\n",
    "  return Q, R_avg, R"
   ]
  },
  {
   "cell_type": "code",
   "execution_count": 5,
   "id": "9e38fa69",
   "metadata": {},
   "outputs": [],
   "source": [
    "def modeGreedy(myBandit, epsilon, max_iteration,method=1,alpha=0.7):\n",
    "  # Initialization \n",
    "  Q = [0]*myBandit.N \n",
    "  count = [0]*myBandit.N\n",
    "  epsilon = epsilon\n",
    "  r = 0\n",
    "  R = []\n",
    "  R_avg = [0]*1\n",
    "  max_iter = max_iteration\n",
    "  # Incremental Implementation\n",
    "  for iter in range(1,max_iter):\n",
    "    if random.random() > epsilon:\n",
    "      action = Q.index(max(Q)) # Exploit/ Greed\n",
    "    else:\n",
    "      action = random.choice(myBandit.actions()) # Explore\n",
    "    if(method==1):\n",
    "      r = myBandit.reward(action) #Stationary rewards\n",
    "    else:\n",
    "      r=myBandit.nonStatReward(action) #Non Stationary rewards\n",
    "    R.append(r)\n",
    "    count[action] = count[action]+1\n",
    "    Q[action] = Q[action]+(r - Q[action])*alpha; #assigning more weights to the current reward\n",
    "    R_avg.append(R_avg[iter-1] + (r-R_avg[iter-1])/iter)\n",
    "  # print(count)\n",
    "\n",
    "  return Q, R_avg, R"
   ]
  },
  {
   "cell_type": "code",
   "execution_count": 6,
   "id": "9c724506",
   "metadata": {},
   "outputs": [],
   "source": [
    "N = 10\n",
    "myBandit = Bandit(N)"
   ]
  },
  {
   "cell_type": "code",
   "execution_count": 7,
   "id": "6d071927",
   "metadata": {},
   "outputs": [
    {
     "name": "stdout",
     "output_type": "stream",
     "text": [
      "[227, 203, 195, 184, 222, 192, 7970, 223, 339, 244]\n"
     ]
    }
   ],
   "source": [
    "Q, R_avg, R = eGreedy(myBandit, 0.2, 10000,2)\n"
   ]
  },
  {
   "cell_type": "code",
   "execution_count": 8,
   "id": "f64d66fd",
   "metadata": {},
   "outputs": [],
   "source": [
    "Q1, R_avg1, R1 = modeGreedy(myBandit, 0.2, 10000,2)\n"
   ]
  },
  {
   "cell_type": "code",
   "execution_count": 12,
   "id": "91eaa3fe",
   "metadata": {},
   "outputs": [
    {
     "data": {
      "text/plain": [
       "Text(0.5, 0, 'no. of steps')"
      ]
     },
     "execution_count": 12,
     "metadata": {},
     "output_type": "execute_result"
    },
    {
     "data": {
      "image/png": "[encoded data removed]",
      "text/plain": [
       "<Figure size 432x288 with 1 Axes>"
      ]
     },
     "metadata": {
      "needs_background": "light"
     },
     "output_type": "display_data"
    }
   ],
   "source": [
    "plt.plot(R_avg1)\n",
    "plt.ylabel(\"Average reward\")\n",
    "plt.xlabel(\"no. of steps\")"
   ]
  },
  {
   "cell_type": "code",
   "execution_count": null,
   "id": "6076b4ae",
   "metadata": {},
   "outputs": [],
   "source": []
  }
 ],
 "metadata": {
  "kernelspec": {
   "display_name": "Python 3 (ipykernel)",
   "language": "python",
   "name": "python3"
  },
  "language_info": {
   "codemirror_mode": {
    "name": "ipython",
    "version": 3
   },
   "file_extension": ".py",
   "mimetype": "text/x-python",
   "name": "python",
   "nbconvert_exporter": "python",
   "pygments_lexer": "ipython3",
   "version": "3.9.7"
  }
 },
 "nbformat": 4,
 "nbformat_minor": 5
}
